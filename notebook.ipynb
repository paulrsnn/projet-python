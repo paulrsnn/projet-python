{
 "cells": [
  {
   "cell_type": "markdown",
   "metadata": {},
   "source": [
    "# Projet Python 2A\n",
    "\n",
    "Paul Ronsain - Ramatoulaye Traoré - Cosima Mongruel\n",
    "\n",
    "*Ce projet est réalisé dans le cadre du cours de Python pour l'année 2023-2024*."
   ]
  },
  {
   "cell_type": "markdown",
   "metadata": {},
   "source": [
    "## Introduction \n",
    "\n",
    "L'objectif de ce projet est d'expliquer la pratique sportive en France à l'échelle départementale et régionale à partir des caractéristiques démographiques et économiques des zones. L'analyse a lieu en plusieurs étapes :\n",
    "\n",
    "**Etape 1 :** Nettoyage des bases de données 'lic_comm', '  ', et importation des périmètres des régions et départements français.\n",
    "\n",
    "**Etape 2 :** Analyse de la base des licenciés : \n",
    "\n",
    "**Etape 3 :** Analyse de la base des revenus, et mise en relation avec la base des licenciés. \n",
    "\n",
    "**Etape 4 :** Modélisation et principaux résultats"
   ]
  },
  {
   "cell_type": "markdown",
   "metadata": {},
   "source": [
    "## Structure du répertoire Git :\n",
    "\n"
   ]
  },
  {
   "cell_type": "markdown",
   "metadata": {},
   "source": []
  },
  {
   "cell_type": "markdown",
   "metadata": {},
   "source": []
  }
 ],
 "metadata": {
  "language_info": {
   "name": "python"
  }
 },
 "nbformat": 4,
 "nbformat_minor": 2
}

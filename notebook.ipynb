{
 "cells": [
  {
   "cell_type": "markdown",
   "metadata": {},
   "source": [
    "# Projet Python 2A\n",
    "\n",
    "Paul Ronsain - Ramatoulaye Traoré - Cosima Mongruel\n",
    "\n",
    "*Ce projet est réalisé dans le cadre du cours de Python pour l'année 2023-2024*."
   ]
  },
  {
   "cell_type": "markdown",
   "metadata": {},
   "source": [
    "## Introduction \n",
    "\n",
    "L'objectif de ce projet est d'expliquer la pratique sportive en France à l'échelle départementale et régionale à partir des caractéristiques démographiques et économiques des zones. L'analyse a lieu en plusieurs étapes :\n",
    "\n",
    "**Etape 1 :** Nettoyage des bases de données 'lic_comm', '  ', et importation des périmètres des régions et départements français.\n",
    "\n",
    "**Etape 2 :** Analyse de la base des licenciés : \n",
    "\n",
    "**Etape 3 :** Analyse de la base des revenus. \n",
    "\n",
    "**Etape 4 :** Classification, mise en relation de la base des licenciés avec la base des revenus et régressions"
   ]
  },
  {
   "cell_type": "markdown",
   "metadata": {},
   "source": [
    "## Structure du répertoire Git :\n",
    "\n"
   ]
  },
  {
   "cell_type": "markdown",
   "metadata": {},
   "source": [
    " **Etape 1 :** se résume au fichier  0-nettoyage-bdd-v2.ipynb"
   ]
  },
  {
   "cell_type": "markdown",
   "metadata": {},
   "source": [
    " **Etape 2 :**  nécessite l'appel des fonctions du fichier 0-principales_fonctions.ipynb et l'analyse se fait dans le fichier 1-analyse-lic_comm-v2.ipynb"
   ]
  },
  {
   "cell_type": "markdown",
   "metadata": {},
   "source": [
    " **Etape 3 :** se résume au fichier 2-analyse-base-revenus-departs.ipynb"
   ]
  },
  {
   "cell_type": "markdown",
   "metadata": {},
   "source": [
    " **Etape 4 :**  fait appel aux fonctions de fonctions_modelisation.ipynb et les fichiers Classification.ipynb et régressions.ipynb"
   ]
  },
  {
   "cell_type": "markdown",
   "metadata": {},
   "source": [
    "les analyses des résulats figurent dans les cellules markdown des différents fichiers."
   ]
  }
 ],
 "metadata": {
  "language_info": {
   "name": "python"
  }
 },
 "nbformat": 4,
 "nbformat_minor": 2
}
